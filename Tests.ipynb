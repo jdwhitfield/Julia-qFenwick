{
 "cells": [
  {
   "cell_type": "code",
   "execution_count": 1,
   "metadata": {
    "collapsed": false,
    "deletable": true,
    "editable": true
   },
   "outputs": [
    {
     "data": {
      "text/plain": [
       "JWTree (generic function with 1 method)"
      ]
     },
     "execution_count": 1,
     "metadata": {},
     "output_type": "execute_result"
    }
   ],
   "source": [
    "#%###################################\n",
    "#%#           Parity trees          #\n",
    "#%###################################\n",
    "#%ParityTree(num_of_sites,Parents)\n",
    "struct PTree\n",
    "    M::Int64\n",
    "    Parents::Array{Int64}\n",
    "end\n",
    "\n",
    "#-1 indicates the node has no parent\n",
    "function JWTree(M)\n",
    "    Parents=-ones(M,1)\n",
    "    return PTree(M,Parents)\n",
    "end\n",
    "\n",
    "\n",
    "#%Parity tree functions\n",
    "#%--\n",
    "#%function Ancestors(      j,PT::PTree)\n",
    "#%function Children(       j,PT::PTree)\n",
    "#%function YoungerCousins( j,PT::PTree)\n",
    "#%function DisjointRoots(  j,PT::PTree)\n",
    "#%function Progeny(        j,PT::PTree)"
   ]
  },
  {
   "cell_type": "code",
   "execution_count": 8,
   "metadata": {
    "collapsed": false,
    "deletable": true,
    "editable": true
   },
   "outputs": [
    {
     "data": {
      "text/plain": [
       "Ancestors (generic function with 2 methods)"
      ]
     },
     "execution_count": 8,
     "metadata": {},
     "output_type": "execute_result"
    }
   ],
   "source": [
    "function Ancestors(j,PT::PTree,verbose::Bool=false)\n",
    "    A=[];\n",
    "    cur=j;\n",
    "    ctr=1;\n",
    "    while ctr<1000\n",
    "        if(verbose)\n",
    "            println(\"ctr - \",ctr)\n",
    "        end\n",
    "        if(PT.Parents[cur]==-1)\n",
    "            if(verbose)\n",
    "                println(\"breaking val of cur=\",cur)\n",
    "            end\n",
    "            break;\n",
    "        else\n",
    "            A=[A; PT.Parents[cur]];\n",
    "            cur=PT.Parents[cur];\n",
    "        end\n",
    "        \n",
    "        ctr=ctr+1\n",
    "    \n",
    "    end\n",
    "    if ctr>PT.M\n",
    "        if(verbose)\n",
    "            println(\"ctr - \",ctr,\"; PT.M - \",PT.M)\n",
    "        end\n",
    "        print(\"Warning, the loop didn't close automatically\")\n",
    "    end\n",
    "    \n",
    "    return A;\n",
    "end\n",
    "\n"
   ]
  },
  {
   "cell_type": "code",
   "execution_count": 22,
   "metadata": {
    "collapsed": false,
    "deletable": true,
    "editable": true
   },
   "outputs": [
    {
     "data": {
      "text/plain": [
       "2-element Array{Any,1}:\n",
       " 2\n",
       " 3"
      ]
     },
     "execution_count": 22,
     "metadata": {},
     "output_type": "execute_result"
    }
   ],
   "source": [
    "pt=ParityTree(3)\n",
    "Ancestors(1,pt)"
   ]
  },
  {
   "cell_type": "code",
   "execution_count": 23,
   "metadata": {
    "collapsed": false,
    "deletable": true,
    "editable": true
   },
   "outputs": [
    {
     "data": {
      "text/plain": [
       "0-element Array{Any,1}"
      ]
     },
     "execution_count": 23,
     "metadata": {},
     "output_type": "execute_result"
    }
   ],
   "source": [
    "jw=JWTree(3)\n",
    "Ancestors(1,jw)"
   ]
  },
  {
   "cell_type": "code",
   "execution_count": 24,
   "metadata": {
    "collapsed": false,
    "deletable": true,
    "editable": true
   },
   "outputs": [
    {
     "data": {
      "text/plain": [
       "ParityTree (generic function with 1 method)"
      ]
     },
     "execution_count": 24,
     "metadata": {},
     "output_type": "execute_result"
    }
   ],
   "source": [
    "function ParityTree(N)\n",
    "\n",
    "  paritytree=-ones(N,1);\n",
    "\n",
    "  for i=1:(N-1)\n",
    "    paritytree[i]=i+1;\n",
    "  end\n",
    "\n",
    "  return PTree(N,paritytree);\n",
    "end\n"
   ]
  },
  {
   "cell_type": "code",
   "execution_count": 25,
   "metadata": {
    "collapsed": false,
    "deletable": true,
    "editable": true
   },
   "outputs": [
    {
     "data": {
      "text/plain": [
       "Children (generic function with 1 method)"
      ]
     },
     "execution_count": 25,
     "metadata": {},
     "output_type": "execute_result"
    }
   ],
   "source": [
    "\n",
    "function Children(j,PT::PTree)\n",
    "    C=[];\n",
    "    for k=1:PT.M\n",
    "        if(PT.Parents[k]==j)\n",
    "            C=[C; k];\n",
    "        end\n",
    "    end\n",
    "    return C;\n",
    "end\n",
    "\n"
   ]
  },
  {
   "cell_type": "code",
   "execution_count": 26,
   "metadata": {
    "collapsed": false,
    "deletable": true,
    "editable": true
   },
   "outputs": [
    {
     "data": {
      "text/plain": [
       "1-element Array{Any,1}:\n",
       " 2"
      ]
     },
     "execution_count": 26,
     "metadata": {},
     "output_type": "execute_result"
    }
   ],
   "source": [
    "Children(3,pt)"
   ]
  },
  {
   "cell_type": "code",
   "execution_count": 27,
   "metadata": {
    "collapsed": false,
    "deletable": true,
    "editable": true
   },
   "outputs": [
    {
     "data": {
      "text/plain": [
       "Progeny (generic function with 1 method)"
      ]
     },
     "execution_count": 27,
     "metadata": {},
     "output_type": "execute_result"
    }
   ],
   "source": [
    "function Progeny(j,tree::PTree)\n",
    "  #children's children\n",
    "  all_kids=[];\n",
    "\n",
    "  ctr=0;\n",
    "  g0kids=Children(j,tree);\n",
    "\n",
    "\n",
    "  while(length(g0kids)>0)\n",
    "    #Basis cases to illustrate the logic\n",
    "    #\n",
    "    # kids=Children(j)\n",
    "    # grandkids=[];\n",
    "    # for i=1:length(kids)\n",
    "    #   child=kids[i];\n",
    "    #   grandkids=[grandkids Children(child)];\n",
    "    # end\n",
    "    #\n",
    "    # greatgrandkids=[];\n",
    "    # for i=1:length(grandkids)\n",
    "    #   grandchild=grandkids[i];\n",
    "    #   greatgrandkids=[greatgrandkids Children(grandchild)];\n",
    "    # end\n",
    "\n",
    "    #g0 is the previous generation, g1 is the next generation\n",
    "    g1kids=[];\n",
    "    for i=1:length(g0kids)\n",
    "\n",
    "      #pull child\n",
    "      child0=g0kids[i];\n",
    "\n",
    "      g1kids=append!(g1kids,Children(child0,tree));\n",
    "    end\n",
    "\n",
    "    #record this generation\n",
    "    all_kids=append!(all_kids,g0kids);\n",
    "\n",
    "    #check the next generation\n",
    "    g0kids=g1kids;\n",
    "\n",
    "    ctr=ctr+1;\n",
    "    #prevent excessive nesting\n",
    "    if(ctr>100)\n",
    "      print(\"\\n\\tWarning: Excessive nesting, pruning\\n\")\n",
    "      return;\n",
    "    end\n",
    "  end\n",
    "\n",
    "  return all_kids;\n",
    "end\n",
    "\n"
   ]
  },
  {
   "cell_type": "code",
   "execution_count": 28,
   "metadata": {
    "collapsed": false,
    "deletable": true,
    "editable": true
   },
   "outputs": [
    {
     "data": {
      "text/plain": [
       "2-element Array{Any,1}:\n",
       " 2\n",
       " 1"
      ]
     },
     "execution_count": 28,
     "metadata": {},
     "output_type": "execute_result"
    }
   ],
   "source": [
    "Progeny(3,pt)"
   ]
  },
  {
   "cell_type": "code",
   "execution_count": 29,
   "metadata": {
    "collapsed": false,
    "deletable": true,
    "editable": true
   },
   "outputs": [
    {
     "data": {
      "text/plain": [
       "YoungerCousins (generic function with 1 method)"
      ]
     },
     "execution_count": 29,
     "metadata": {},
     "output_type": "execute_result"
    }
   ],
   "source": [
    "\n",
    "function YoungerCousins(j,PT::PTree)\n",
    "    K=[];\n",
    "    A=Ancestors(j,PT)\n",
    "    for k=1:length(A)\n",
    "        Ck=Children(A[k],PT);\n",
    "        for kk=1:length(Ck)\n",
    "            if(Ck[kk]<j)\n",
    "                K=[K; Ck[kk]]\n",
    "            end\n",
    "        end\n",
    "    end\n",
    "    return K;\n",
    "end\n",
    "\n"
   ]
  },
  {
   "cell_type": "code",
   "execution_count": 30,
   "metadata": {
    "collapsed": false,
    "deletable": true,
    "editable": true
   },
   "outputs": [
    {
     "data": {
      "text/plain": [
       "0-element Array{Any,1}"
      ]
     },
     "execution_count": 30,
     "metadata": {},
     "output_type": "execute_result"
    }
   ],
   "source": [
    "YoungerCousins(3,jw)"
   ]
  },
  {
   "cell_type": "code",
   "execution_count": 31,
   "metadata": {
    "collapsed": false,
    "deletable": true,
    "editable": true
   },
   "outputs": [
    {
     "data": {
      "text/plain": [
       "DisjointRoots (generic function with 1 method)"
      ]
     },
     "execution_count": 31,
     "metadata": {},
     "output_type": "execute_result"
    }
   ],
   "source": [
    "\n",
    "function DisjointRoots(j,PT::PTree)\n",
    "    L=[];\n",
    "\n",
    "    for k=j-1:-1:1\n",
    "        if PT.Parents[k]==-1;\n",
    "            L=[L; k];\n",
    "        end\n",
    "    end\n",
    "\n",
    "    return L\n",
    "end\n",
    "\n"
   ]
  },
  {
   "cell_type": "code",
   "execution_count": 32,
   "metadata": {
    "collapsed": false,
    "deletable": true,
    "editable": true
   },
   "outputs": [
    {
     "data": {
      "text/plain": [
       "2-element Array{Any,1}:\n",
       " 2\n",
       " 1"
      ]
     },
     "execution_count": 32,
     "metadata": {},
     "output_type": "execute_result"
    }
   ],
   "source": [
    "DisjointRoots(3,jw)"
   ]
  },
  {
   "cell_type": "code",
   "execution_count": 33,
   "metadata": {
    "collapsed": false,
    "deletable": true,
    "editable": true
   },
   "outputs": [
    {
     "data": {
      "text/plain": [
       "0-element Array{Any,1}"
      ]
     },
     "execution_count": 33,
     "metadata": {},
     "output_type": "execute_result"
    }
   ],
   "source": [
    "DisjointRoots(2,pt)"
   ]
  },
  {
   "cell_type": "code",
   "execution_count": 34,
   "metadata": {
    "collapsed": false,
    "deletable": true,
    "editable": true
   },
   "outputs": [
    {
     "data": {
      "text/plain": [
       "ShiftTreeIndices (generic function with 1 method)"
      ]
     },
     "execution_count": 34,
     "metadata": {},
     "output_type": "execute_result"
    }
   ],
   "source": [
    "function ShiftTreeIndices(shift,parent_tree)\n",
    "  shifted_tree=parent_tree.+shift;\n",
    "\n",
    "  #if it used to be empty it needs to reset\n",
    "  shifted_tree[shifted_tree .== shift-1].=-1;\n",
    "  return shifted_tree\n",
    "end\n",
    "\n"
   ]
  },
  {
   "cell_type": "code",
   "execution_count": 35,
   "metadata": {
    "collapsed": false,
    "deletable": true,
    "editable": true
   },
   "outputs": [
    {
     "data": {
      "text/plain": [
       "3×1 Array{Int64,2}:\n",
       "  6\n",
       "  7\n",
       " -1"
      ]
     },
     "execution_count": 35,
     "metadata": {},
     "output_type": "execute_result"
    }
   ],
   "source": [
    "ShiftTreeIndices(4,pt.Parents)"
   ]
  },
  {
   "cell_type": "code",
   "execution_count": 36,
   "metadata": {
    "collapsed": false,
    "deletable": true,
    "editable": true
   },
   "outputs": [
    {
     "data": {
      "text/plain": [
       "-1"
      ]
     },
     "execution_count": 36,
     "metadata": {},
     "output_type": "execute_result"
    }
   ],
   "source": [
    "st=pt.Parents.+1\n",
    "idx=st.==0\n",
    "st[3]=-1\n",
    "#st[idx]=-1"
   ]
  },
  {
   "cell_type": "code",
   "execution_count": 37,
   "metadata": {
    "collapsed": false,
    "deletable": true,
    "editable": true
   },
   "outputs": [
    {
     "data": {
      "text/plain": [
       "1-element SubArray{Int64,1,Array{Int64,1},Tuple{Array{Int64,1}},false}:\n",
       " 0"
      ]
     },
     "execution_count": 37,
     "metadata": {},
     "output_type": "execute_result"
    }
   ],
   "source": [
    "st[st.==-1].=0"
   ]
  },
  {
   "cell_type": "code",
   "execution_count": 38,
   "metadata": {
    "collapsed": false,
    "deletable": true,
    "editable": true
   },
   "outputs": [
    {
     "data": {
      "text/plain": [
       "3×1 Array{Int64,2}:\n",
       " 3\n",
       " 4\n",
       " 0"
      ]
     },
     "execution_count": 38,
     "metadata": {},
     "output_type": "execute_result"
    }
   ],
   "source": [
    "st"
   ]
  },
  {
   "cell_type": "code",
   "execution_count": 39,
   "metadata": {
    "collapsed": false,
    "deletable": true,
    "editable": true
   },
   "outputs": [
    {
     "data": {
      "text/plain": [
       "PTree(3, [2; 3; -1])"
      ]
     },
     "execution_count": 39,
     "metadata": {},
     "output_type": "execute_result"
    }
   ],
   "source": [
    "pt"
   ]
  },
  {
   "cell_type": "code",
   "execution_count": 40,
   "metadata": {
    "collapsed": false,
    "deletable": true,
    "editable": true
   },
   "outputs": [
    {
     "data": {
      "text/plain": [
       "CombineTrees (generic function with 1 method)"
      ]
     },
     "execution_count": 40,
     "metadata": {},
     "output_type": "execute_result"
    }
   ],
   "source": [
    "function CombineTrees(treeL,treeR)\n",
    "  m=length(treeL)\n",
    "  shifted_treeR=ShiftTreeIndices(m,treeR)\n",
    "  return [treeL;shifted_treeR]\n",
    "end\n",
    "\n"
   ]
  },
  {
   "cell_type": "code",
   "execution_count": 41,
   "metadata": {
    "collapsed": false,
    "deletable": true,
    "editable": true
   },
   "outputs": [
    {
     "data": {
      "text/plain": [
       "6×1 Array{Int64,2}:\n",
       "  2\n",
       "  3\n",
       " -1\n",
       "  5\n",
       "  6\n",
       " -1"
      ]
     },
     "execution_count": 41,
     "metadata": {},
     "output_type": "execute_result"
    }
   ],
   "source": [
    "ct=CombineTrees(pt.Parents,pt.Parents)"
   ]
  },
  {
   "cell_type": "code",
   "execution_count": 42,
   "metadata": {
    "collapsed": false,
    "deletable": true,
    "editable": true
   },
   "outputs": [
    {
     "data": {
      "text/plain": [
       "false"
      ]
     },
     "execution_count": 42,
     "metadata": {},
     "output_type": "execute_result"
    }
   ],
   "source": [
    "ct==[2;3;-1;5;6;-1]"
   ]
  },
  {
   "cell_type": "code",
   "execution_count": 43,
   "metadata": {
    "collapsed": false,
    "deletable": true,
    "editable": true
   },
   "outputs": [
    {
     "data": {
      "text/plain": [
       "6×1 Array{Int64,2}:\n",
       "  2\n",
       "  3\n",
       " -1\n",
       "  5\n",
       "  6\n",
       " -1"
      ]
     },
     "execution_count": 43,
     "metadata": {},
     "output_type": "execute_result"
    }
   ],
   "source": [
    "Array(ct)"
   ]
  },
  {
   "cell_type": "code",
   "execution_count": 44,
   "metadata": {
    "collapsed": false,
    "deletable": true,
    "editable": true
   },
   "outputs": [
    {
     "data": {
      "text/plain": [
       "true"
      ]
     },
     "execution_count": 44,
     "metadata": {},
     "output_type": "execute_result"
    }
   ],
   "source": [
    "Array([2;3;-1;5;6;-1])≈ Array(ct)"
   ]
  },
  {
   "cell_type": "code",
   "execution_count": 45,
   "metadata": {
    "collapsed": false,
    "deletable": true,
    "editable": true
   },
   "outputs": [
    {
     "data": {
      "text/plain": [
       "3"
      ]
     },
     "execution_count": 45,
     "metadata": {},
     "output_type": "execute_result"
    }
   ],
   "source": [
    "ct[2]"
   ]
  },
  {
   "cell_type": "code",
   "execution_count": 46,
   "metadata": {
    "collapsed": false,
    "deletable": true,
    "editable": true
   },
   "outputs": [
    {
     "data": {
      "text/plain": [
       "6×1 Array{Int64,2}:\n",
       "  2\n",
       "  3\n",
       " -1\n",
       "  5\n",
       "  6\n",
       " -1"
      ]
     },
     "execution_count": 46,
     "metadata": {},
     "output_type": "execute_result"
    }
   ],
   "source": [
    "ct"
   ]
  },
  {
   "cell_type": "code",
   "execution_count": 47,
   "metadata": {
    "collapsed": false,
    "deletable": true,
    "editable": true
   },
   "outputs": [
    {
     "data": {
      "text/plain": [
       "-1"
      ]
     },
     "execution_count": 47,
     "metadata": {},
     "output_type": "execute_result"
    }
   ],
   "source": [
    "ct[3]"
   ]
  },
  {
   "cell_type": "code",
   "execution_count": 48,
   "metadata": {
    "collapsed": false,
    "deletable": true,
    "editable": true
   },
   "outputs": [
    {
     "data": {
      "text/plain": [
       "5"
      ]
     },
     "execution_count": 48,
     "metadata": {},
     "output_type": "execute_result"
    }
   ],
   "source": [
    "ct[4]"
   ]
  },
  {
   "cell_type": "code",
   "execution_count": 49,
   "metadata": {
    "collapsed": false,
    "deletable": true,
    "editable": true
   },
   "outputs": [
    {
     "data": {
      "text/plain": [
       "BetaMatrix (generic function with 1 method)"
      ]
     },
     "execution_count": 49,
     "metadata": {},
     "output_type": "execute_result"
    }
   ],
   "source": [
    "function BetaMatrix(PT::PTree)\n",
    "\n",
    "  #make MxM zeros matrix\n",
    "  B=zeros(Int64,PT.M,PT.M)\n",
    "\n",
    "  #for each node in tree\n",
    "  for j=1:PT.M\n",
    "\n",
    "    #get progeny list\n",
    "    pj=Progeny(j,PT)\n",
    "\n",
    "    #mark appropriate matrix elements\n",
    "\n",
    "    #use the state ordering from eq (24) of Seeley12\n",
    "\n",
    "    #equation 24 of peter's paper has a strange ordering\n",
    "    #based on b_i=\\sum B_{ij} f_j instead of the usual change of basis formula\n",
    "    # b_i=\\sum B_{ji} f_j\n",
    "\n",
    "    B[j,j]=1;\n",
    "    for k=1:length(pj)\n",
    "      B[PT.M+1-j,PT.M+1-pj[k]]=1;\n",
    "    end\n",
    "\n",
    "  end\n",
    "\n",
    "  #return matrix\n",
    "  return B;\n",
    "end"
   ]
  },
  {
   "cell_type": "code",
   "execution_count": 50,
   "metadata": {
    "collapsed": false,
    "deletable": true,
    "editable": true
   },
   "outputs": [
    {
     "data": {
      "text/plain": [
       "3×3 Array{Int64,2}:\n",
       " 1  0  0\n",
       " 0  1  0\n",
       " 0  0  1"
      ]
     },
     "execution_count": 50,
     "metadata": {},
     "output_type": "execute_result"
    }
   ],
   "source": [
    "BetaMatrix(jw)"
   ]
  },
  {
   "cell_type": "code",
   "execution_count": 51,
   "metadata": {
    "collapsed": false,
    "deletable": true,
    "editable": true
   },
   "outputs": [
    {
     "data": {
      "text/plain": [
       "ParityTree (generic function with 1 method)"
      ]
     },
     "execution_count": 51,
     "metadata": {},
     "output_type": "execute_result"
    }
   ],
   "source": [
    "\n",
    "#%######################################\n",
    "#% Fenwick tree and related structures #\n",
    "#%######################################\n",
    "#%--\n",
    "#% tree = MakeFenwickTree(M)\n",
    "#% PT = JWTree(M)\n",
    "#% PT = BKTree(M)\n",
    "#% PT = SBKTree(M,stride_length)\n",
    "#% PT = ParityTree(M)\n",
    "\n",
    "function MakeFenwickTree(N)\n",
    "\n",
    "    if(N==0)\n",
    "      return [];\n",
    "    end\n",
    "    #global variables with respect to FENWICK\n",
    "    tree=-ones(N,1)\n",
    "    ctr=0;\n",
    "\n",
    "    function FENWICK(L,R)\n",
    "        #The recursive algorithm Vojta suggested in our paper\n",
    "\n",
    "\n",
    "        if(ctr>100)\n",
    "            #prevent excessive nesting\n",
    "            print(\"\\n\\tWarning: Excessive nesting, pruning\\n\")\n",
    "            return;\n",
    "        end\n",
    "\n",
    "        #algorithm is to connect from middle between L & R to right then recuse\n",
    "        #on each half. Be careful about floor versus ceiling.\n",
    "\n",
    "        if(L==R)            #if L=R then there is no middle, so we're done\n",
    "            return;\n",
    "        end\n",
    "        n=Int64(floor((L+R)/2))\n",
    "\n",
    "        #Connect middle to R\n",
    "        #+1 because we count from 1 in this language (Julia)\n",
    "        tree[n+1]=R+1;\n",
    "\n",
    "        #branch\n",
    "        ctr=ctr+1;\n",
    "        FENWICK(L+0.0, n)\n",
    "        FENWICK(1.0+n, R)\n",
    "\n",
    "    end\n",
    "\n",
    "    #run the recursive algorithm on (0,N-1) and it generates the BK tree over N\n",
    "    #nodes.\n",
    "    FENWICK(0.0,N-1.0)\n",
    "    return tree\n",
    "end\n",
    "\n",
    "function JWTree(M)\n",
    "    Parents=-ones(M,1)\n",
    "    return PTree(M,Parents)\n",
    "end\n",
    "\n",
    "function BKTree(M)\n",
    "  return PTree(M,MakeFenwickTree(M))\n",
    "end\n",
    "\n",
    "function SBKTree(M,L)\n",
    "  #L=stride_length;\n",
    "\n",
    "  #how many strides?\n",
    "  n=M/L;\n",
    "  n=n-n%1;\n",
    "  #remainder\n",
    "  r=M-n*L;\n",
    "\n",
    "  sktree=[];\n",
    "  #Now we just need to make n strides\n",
    "  for i=1:n\n",
    "    sktree=CombineTrees(MakeFenwickTree(L),sktree);\n",
    "  end\n",
    "  #plus the remaining nodes\n",
    "\n",
    "  sktree=CombineTrees(MakeFenwickTree(r),sktree);\n",
    "\n",
    "  return PTree(M,sktree);\n",
    "end\n",
    "\n",
    "function ParityTree(M)\n",
    "\n",
    "  paritytree=-ones(M,1);\n",
    "\n",
    "  for i=1:(M-1)\n",
    "    paritytree[i]=i+1;\n",
    "  end\n",
    "\n",
    "  return PTree(M,paritytree);\n",
    "end\n",
    "\n"
   ]
  },
  {
   "cell_type": "code",
   "execution_count": 52,
   "metadata": {
    "collapsed": false,
    "deletable": true,
    "editable": true
   },
   "outputs": [
    {
     "data": {
      "text/plain": [
       "PTree(4, [2; 4; 4; -1])"
      ]
     },
     "execution_count": 52,
     "metadata": {},
     "output_type": "execute_result"
    }
   ],
   "source": [
    "bk=BKTree(4)"
   ]
  },
  {
   "cell_type": "code",
   "execution_count": 54,
   "metadata": {
    "collapsed": false,
    "deletable": true,
    "editable": true
   },
   "outputs": [
    {
     "data": {
      "text/plain": [
       "MultiplyPauli (generic function with 1 method)"
      ]
     },
     "execution_count": 54,
     "metadata": {},
     "output_type": "execute_result"
    }
   ],
   "source": [
    "function MultiplyPauli(A,B)\n",
    "  algebra=GetSpinAlgebra();\n",
    "  return algebra[A,B];\n",
    "end"
   ]
  },
  {
   "cell_type": "code",
   "execution_count": 55,
   "metadata": {
    "collapsed": false,
    "deletable": true,
    "editable": true
   },
   "outputs": [
    {
     "data": {
      "text/plain": [
       "0.0f0 + 3.0f0im"
      ]
     },
     "execution_count": 55,
     "metadata": {},
     "output_type": "execute_result"
    }
   ],
   "source": [
    "MultiplyPauli(Z,X)"
   ]
  },
  {
   "cell_type": "code",
   "execution_count": 56,
   "metadata": {
    "collapsed": false,
    "deletable": true,
    "editable": true
   },
   "outputs": [
    {
     "data": {
      "text/plain": [
       "@isdefined (macro with 1 method)"
      ]
     },
     "execution_count": 56,
     "metadata": {},
     "output_type": "execute_result"
    }
   ],
   "source": [
    "macro isdefined(var)\n",
    "                  quote\n",
    "                      try\n",
    "                          local _= $( esc(var) )\n",
    "                          true\n",
    "                      catch err\n",
    "                          isa(err, UndefVarError) ? false : rethrow(err)\n",
    "                      end#try\n",
    "                  end#quote\n",
    "              end#macro##"
   ]
  },
  {
   "cell_type": "code",
   "execution_count": 93,
   "metadata": {
    "collapsed": false,
    "deletable": true,
    "editable": true
   },
   "outputs": [
    {
     "ename": "LoadError",
     "evalue": "LoadError: \u001b[91minvalid redefinition of constant PauliList\u001b[39m\nwhile loading /Volumes/JDWHITFIELD/files/opt/Julia-qFenwick/Spin_Algebra.jl, in expression starting on line 218",
     "output_type": "error",
     "traceback": [
      "LoadError: \u001b[91minvalid redefinition of constant PauliList\u001b[39m\nwhile loading /Volumes/JDWHITFIELD/files/opt/Julia-qFenwick/Spin_Algebra.jl, in expression starting on line 218",
      "",
      "Stacktrace:",
      " [1] \u001b[1minclude_from_node1\u001b[22m\u001b[22m\u001b[1m(\u001b[22m\u001b[22m::String\u001b[1m)\u001b[22m\u001b[22m at \u001b[1m./loading.jl:576\u001b[22m\u001b[22m",
      " [2] \u001b[1minclude\u001b[22m\u001b[22m\u001b[1m(\u001b[22m\u001b[22m::String\u001b[1m)\u001b[22m\u001b[22m at \u001b[1m./sysimg.jl:14\u001b[22m\u001b[22m"
     ]
    }
   ],
   "source": [
    "include(\"Spin_Algebra.jl\")"
   ]
  },
  {
   "cell_type": "code",
   "execution_count": 70,
   "metadata": {
    "collapsed": false,
    "deletable": true,
    "editable": true
   },
   "outputs": [
    {
     "data": {
      "text/plain": [
       "c_op (generic function with 1 method)"
      ]
     },
     "execution_count": 70,
     "metadata": {},
     "output_type": "execute_result"
    }
   ],
   "source": [
    "#basic definitions\n",
    "function c_op(j,PT::PTree)\n",
    "  # c_j = Z_{DisjointRoots} Z_{Children} Z_{YCousins} X_j X_{Ancestors}\n",
    "\n",
    "  #These are the MatrixIDs for coding the algebra\n",
    "  I   =1;\n",
    "  X   =2;\n",
    "  Y   =3;\n",
    "  Z   =4;\n",
    "  P00 =5;\n",
    "  P01 =6;\n",
    "  P10 =7;\n",
    "  P11 =8;\n",
    "  ops=ones(Complex,PT.M);\n",
    "\n",
    "  #Z_{DisjointRoots}\n",
    "  roots=DisjointRoots(j,PT)\n",
    "  ops[roots]=Z;\n",
    "\n",
    "  #Z_children\n",
    "  children=Children(j,PT)\n",
    "  ops[children]=Z;\n",
    "\n",
    "  #Z_cousins\n",
    "  cousins=YoungerCousins(j,PT)\n",
    "  ops[cousins]=Z;\n",
    "\n",
    "  #X_j\n",
    "  ops[j]=X;\n",
    "\n",
    "  #X_ancestors\n",
    "  elders=Ancestors(j,PT)\n",
    "  ops[elders]=X;\n",
    "\n",
    "  return PauliList(1,ops)\n",
    "end"
   ]
  },
  {
   "cell_type": "code",
   "execution_count": 71,
   "metadata": {
    "collapsed": false
   },
   "outputs": [
    {
     "ename": "LoadError",
     "evalue": "\u001b[91mtype PauliList is immutable\u001b[39m",
     "output_type": "error",
     "traceback": [
      "\u001b[91mtype PauliList is immutable\u001b[39m",
      "",
      "Stacktrace:",
      " [1] \u001b[1mStandardForm\u001b[22m\u001b[22m\u001b[1m(\u001b[22m\u001b[22m::PauliList\u001b[1m)\u001b[22m\u001b[22m at \u001b[1m/Volumes/JDWHITFIELD/files/opt/Julia-qFenwick/Spin_Algebra.jl:238\u001b[22m\u001b[22m",
      " [2] \u001b[1mPrintPauliList\u001b[22m\u001b[22m\u001b[1m(\u001b[22m\u001b[22m::PauliList\u001b[1m)\u001b[22m\u001b[22m at \u001b[1m/Volumes/JDWHITFIELD/files/opt/Julia-qFenwick/Spin_Algebra.jl:288\u001b[22m\u001b[22m",
      " [3] \u001b[1mPrint\u001b[22m\u001b[22m\u001b[1m(\u001b[22m\u001b[22m::PauliList\u001b[1m)\u001b[22m\u001b[22m at \u001b[1m/Volumes/JDWHITFIELD/files/opt/Julia-qFenwick/Spin_Algebra.jl:428\u001b[22m\u001b[22m"
     ]
    }
   ],
   "source": [
    "Print(c_op(2,jw))"
   ]
  },
  {
   "cell_type": "code",
   "execution_count": 73,
   "metadata": {
    "collapsed": false
   },
   "outputs": [
    {
     "data": {
      "text/plain": [
       "PauliList(1 + 0im, Complex[4+0im, 4+0im])"
      ]
     },
     "execution_count": 73,
     "metadata": {},
     "output_type": "execute_result"
    }
   ],
   "source": [
    "ZZ=PauliList(1,[Z,Z])"
   ]
  },
  {
   "cell_type": "code",
   "execution_count": 74,
   "metadata": {
    "collapsed": false
   },
   "outputs": [
    {
     "data": {
      "text/plain": [
       "2-element Array{Complex,1}:\n",
       " 4+0im\n",
       " 4+0im"
      ]
     },
     "execution_count": 74,
     "metadata": {},
     "output_type": "execute_result"
    }
   ],
   "source": [
    "ZZ.List"
   ]
  },
  {
   "cell_type": "code",
   "execution_count": 79,
   "metadata": {
    "collapsed": false
   },
   "outputs": [
    {
     "data": {
      "text/plain": [
       "0"
      ]
     },
     "execution_count": 79,
     "metadata": {},
     "output_type": "execute_result"
    }
   ],
   "source": [
    "sum(abs.(ZZ.List).<1.0)"
   ]
  },
  {
   "cell_type": "code",
   "execution_count": 80,
   "metadata": {
    "collapsed": false
   },
   "outputs": [
    {
     "data": {
      "text/plain": [
       "2-element Array{Complex{Float64},1}:\n",
       " 1.0+0.0im\n",
       " 1.0+0.0im"
      ]
     },
     "execution_count": 80,
     "metadata": {},
     "output_type": "execute_result"
    }
   ],
   "source": [
    "b=(ZZ.List)./abs.(ZZ.List)"
   ]
  },
  {
   "cell_type": "code",
   "execution_count": 85,
   "metadata": {
    "collapsed": false
   },
   "outputs": [
    {
     "data": {
      "text/plain": [
       "1.0 + 0.0im"
      ]
     },
     "execution_count": 85,
     "metadata": {},
     "output_type": "execute_result"
    }
   ],
   "source": [
    "prod(b[.!isnan.(b)])"
   ]
  },
  {
   "cell_type": "code",
   "execution_count": 91,
   "metadata": {
    "collapsed": false
   },
   "outputs": [
    {
     "data": {
      "text/plain": [
       "2-element Array{Complex{Float64},1}:\n",
       " 4.0+0.0im\n",
       " 4.0+0.0im"
      ]
     },
     "execution_count": 91,
     "metadata": {},
     "output_type": "execute_result"
    }
   ],
   "source": [
    "Complex.(round.(float(abs.(ZZ.List))))"
   ]
  },
  {
   "cell_type": "code",
   "execution_count": null,
   "metadata": {
    "collapsed": true
   },
   "outputs": [],
   "source": []
  }
 ],
 "metadata": {
  "kernelspec": {
   "display_name": "Julia 0.6.4",
   "language": "julia",
   "name": "julia-0.6"
  },
  "language_info": {
   "file_extension": ".jl",
   "mimetype": "application/julia",
   "name": "julia",
   "version": "0.6.4"
  }
 },
 "nbformat": 4,
 "nbformat_minor": 2
}
