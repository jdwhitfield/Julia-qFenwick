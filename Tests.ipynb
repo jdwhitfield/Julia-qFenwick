{
 "cells": [
  {
   "cell_type": "code",
   "execution_count": 141,
   "metadata": {
    "collapsed": false,
    "deletable": true,
    "editable": true
   },
   "outputs": [
    {
     "ename": "LoadError",
     "evalue": "syntax: extra token \"Parents\" after end of expression",
     "output_type": "error",
     "traceback": [
      "syntax: extra token \"Parents\" after end of expression",
      ""
     ]
    }
   ],
   "source": [
    "#%###################################\n",
    "#%#           Parity trees          #\n",
    "#%###################################\n",
    "#%ParityTree(num_of_sites,Parents)\n",
    "struct PTree\n",
    "    M::Int64\n",
    "    Parents::Array{Int64}\n",
    "end\n",
    "\n",
    "#-1 indicates the node has no parent\n",
    "function JWTree(M)\n",
    "    Parents=-ones(M,1)\n",
    "    return PTree(M,Parents)\n",
    "end\n",
    "\n",
    "\n",
    "#%Parity tree functions\n",
    "#%--\n",
    "#%function Ancestors(      j,PT::PTree)\n",
    "#%function Children(       j,PT::PTree)\n",
    "#%function YoungerCousins( j,PT::PTree)\n",
    "#%function DisjointRoots(  j,PT::PTree)\n",
    "#%function Progeny(        j,PT::PTree)"
   ]
  },
  {
   "cell_type": "code",
   "execution_count": 101,
   "metadata": {
    "collapsed": false,
    "deletable": true,
    "editable": true
   },
   "outputs": [
    {
     "data": {
      "text/plain": [
       "Ancestors (generic function with 2 methods)"
      ]
     },
     "execution_count": 101,
     "metadata": {},
     "output_type": "execute_result"
    }
   ],
   "source": [
    "function Ancestors(j,PT::PTree,verbose::Bool=false)\n",
    "    A=[];\n",
    "    cur=j;\n",
    "    ctr=1;\n",
    "    while ctr<1000\n",
    "        if(verbose)\n",
    "            println(\"ctr - \",ctr)\n",
    "        end\n",
    "        if(PT.Parents[cur]==-1)\n",
    "            if(verbose)\n",
    "                println(\"breaking val of cur=\",cur)\n",
    "            end\n",
    "            break;\n",
    "        else\n",
    "            A=[A; PT.Parents[cur]];\n",
    "            cur=PT.Parents[cur];\n",
    "        end\n",
    "        \n",
    "        ctr=ctr+1\n",
    "    \n",
    "    end\n",
    "    if ctr>PT.M\n",
    "        if(verbose)\n",
    "            println(\"ctr - \",ctr,\"; PT.M - \",PT.M)\n",
    "        end\n",
    "        print(\"Warning, the loop didn't close automatically\")\n",
    "    end\n",
    "    \n",
    "    return A;\n",
    "end\n",
    "\n"
   ]
  },
  {
   "cell_type": "code",
   "execution_count": 104,
   "metadata": {
    "collapsed": false,
    "deletable": true,
    "editable": true
   },
   "outputs": [
    {
     "name": "stdout",
     "output_type": "stream",
     "text": [
      "ctr - 1\n",
      "ctr - 2\n",
      "ctr - 3\n",
      "breaking val of cur=3\n"
     ]
    },
    {
     "data": {
      "text/plain": [
       "2-element Array{Any,1}:\n",
       " 2\n",
       " 3"
      ]
     },
     "execution_count": 104,
     "metadata": {},
     "output_type": "execute_result"
    }
   ],
   "source": [
    "Ancestors(1,pt,true)"
   ]
  },
  {
   "cell_type": "code",
   "execution_count": 74,
   "metadata": {
    "collapsed": false,
    "deletable": true,
    "editable": true
   },
   "outputs": [],
   "source": [
    "A=[];\n",
    "j=1;\n",
    "cur=j;\n",
    "ctr=1;"
   ]
  },
  {
   "cell_type": "code",
   "execution_count": 106,
   "metadata": {
    "collapsed": false,
    "deletable": true,
    "editable": true
   },
   "outputs": [
    {
     "data": {
      "text/plain": [
       "0-element Array{Any,1}"
      ]
     },
     "execution_count": 106,
     "metadata": {},
     "output_type": "execute_result"
    }
   ],
   "source": [
    "jw=JWTree(3)\n",
    "Ancestors(1,jw)"
   ]
  },
  {
   "cell_type": "code",
   "execution_count": 76,
   "metadata": {
    "collapsed": false,
    "deletable": true,
    "editable": true
   },
   "outputs": [
    {
     "data": {
      "text/plain": [
       "ParityTree (generic function with 1 method)"
      ]
     },
     "execution_count": 76,
     "metadata": {},
     "output_type": "execute_result"
    }
   ],
   "source": [
    "function ParityTree(N)\n",
    "\n",
    "  paritytree=-ones(N,1);\n",
    "\n",
    "  for i=1:(N-1)\n",
    "    paritytree[i]=i+1;\n",
    "  end\n",
    "\n",
    "  return PTree(N,paritytree);\n",
    "end\n"
   ]
  },
  {
   "cell_type": "code",
   "execution_count": 155,
   "metadata": {
    "collapsed": false,
    "deletable": true,
    "editable": true
   },
   "outputs": [
    {
     "data": {
      "text/plain": [
       "2-element Array{Any,1}:\n",
       " 2\n",
       " 3"
      ]
     },
     "execution_count": 155,
     "metadata": {},
     "output_type": "execute_result"
    }
   ],
   "source": [
    "pt=ParityTree(3)\n",
    "Ancestors(1,pt)"
   ]
  },
  {
   "cell_type": "code",
   "execution_count": 90,
   "metadata": {
    "collapsed": false,
    "deletable": true,
    "editable": true
   },
   "outputs": [
    {
     "data": {
      "text/plain": [
       "Children (generic function with 1 method)"
      ]
     },
     "execution_count": 90,
     "metadata": {},
     "output_type": "execute_result"
    }
   ],
   "source": [
    "\n",
    "function Children(j,PT::PTree)\n",
    "    C=[];\n",
    "    for k=1:PT.M\n",
    "        if(PT.Parents[k]==j)\n",
    "            C=[C; k];\n",
    "        end\n",
    "    end\n",
    "    return C;\n",
    "end\n",
    "\n"
   ]
  },
  {
   "cell_type": "code",
   "execution_count": 110,
   "metadata": {
    "collapsed": false,
    "deletable": true,
    "editable": true
   },
   "outputs": [
    {
     "data": {
      "text/plain": [
       "1-element Array{Any,1}:\n",
       " 2"
      ]
     },
     "execution_count": 110,
     "metadata": {},
     "output_type": "execute_result"
    }
   ],
   "source": [
    "Children(3,pt)"
   ]
  },
  {
   "cell_type": "code",
   "execution_count": 94,
   "metadata": {
    "collapsed": false,
    "deletable": true,
    "editable": true
   },
   "outputs": [
    {
     "data": {
      "text/plain": [
       "Progeny (generic function with 1 method)"
      ]
     },
     "execution_count": 94,
     "metadata": {},
     "output_type": "execute_result"
    }
   ],
   "source": [
    "function Progeny(j,tree::PTree)\n",
    "  #children's children\n",
    "  all_kids=[];\n",
    "\n",
    "  ctr=0;\n",
    "  g0kids=Children(j,tree);\n",
    "\n",
    "\n",
    "  while(length(g0kids)>0)\n",
    "    #Basis cases to illustrate the logic\n",
    "    #\n",
    "    # kids=Children(j)\n",
    "    # grandkids=[];\n",
    "    # for i=1:length(kids)\n",
    "    #   child=kids[i];\n",
    "    #   grandkids=[grandkids Children(child)];\n",
    "    # end\n",
    "    #\n",
    "    # greatgrandkids=[];\n",
    "    # for i=1:length(grandkids)\n",
    "    #   grandchild=grandkids[i];\n",
    "    #   greatgrandkids=[greatgrandkids Children(grandchild)];\n",
    "    # end\n",
    "\n",
    "    #g0 is the previous generation, g1 is the next generation\n",
    "    g1kids=[];\n",
    "    for i=1:length(g0kids)\n",
    "\n",
    "      #pull child\n",
    "      child0=g0kids[i];\n",
    "\n",
    "      g1kids=append!(g1kids,Children(child0,tree));\n",
    "    end\n",
    "\n",
    "    #record this generation\n",
    "    all_kids=append!(all_kids,g0kids);\n",
    "\n",
    "    #check the next generation\n",
    "    g0kids=g1kids;\n",
    "\n",
    "    ctr=ctr+1;\n",
    "    #prevent excessive nesting\n",
    "    if(ctr>100)\n",
    "      print(\"\\n\\tWarning: Excessive nesting, pruning\\n\")\n",
    "      return;\n",
    "    end\n",
    "  end\n",
    "\n",
    "  return all_kids;\n",
    "end\n",
    "\n"
   ]
  },
  {
   "cell_type": "code",
   "execution_count": 111,
   "metadata": {
    "collapsed": false,
    "deletable": true,
    "editable": true
   },
   "outputs": [
    {
     "data": {
      "text/plain": [
       "2-element Array{Any,1}:\n",
       " 2\n",
       " 1"
      ]
     },
     "execution_count": 111,
     "metadata": {},
     "output_type": "execute_result"
    }
   ],
   "source": [
    "Progeny(3,pt)"
   ]
  },
  {
   "cell_type": "code",
   "execution_count": 97,
   "metadata": {
    "collapsed": false,
    "deletable": true,
    "editable": true
   },
   "outputs": [
    {
     "data": {
      "text/plain": [
       "YoungerCousins (generic function with 1 method)"
      ]
     },
     "execution_count": 97,
     "metadata": {},
     "output_type": "execute_result"
    }
   ],
   "source": [
    "\n",
    "function YoungerCousins(j,PT::PTree)\n",
    "    K=[];\n",
    "    A=Ancestors(j,PT)\n",
    "    for k=1:length(A)\n",
    "        Ck=Children(A[k],PT);\n",
    "        for kk=1:length(Ck)\n",
    "            if(Ck[kk]<j)\n",
    "                K=[K; Ck[kk]]\n",
    "            end\n",
    "        end\n",
    "    end\n",
    "    return K;\n",
    "end\n",
    "\n"
   ]
  },
  {
   "cell_type": "code",
   "execution_count": 112,
   "metadata": {
    "collapsed": false,
    "deletable": true,
    "editable": true
   },
   "outputs": [
    {
     "data": {
      "text/plain": [
       "0-element Array{Any,1}"
      ]
     },
     "execution_count": 112,
     "metadata": {},
     "output_type": "execute_result"
    }
   ],
   "source": [
    "YoungerCousins(3,jw)"
   ]
  },
  {
   "cell_type": "code",
   "execution_count": 113,
   "metadata": {
    "collapsed": false,
    "deletable": true,
    "editable": true
   },
   "outputs": [
    {
     "data": {
      "text/plain": [
       "DisjointRoots (generic function with 1 method)"
      ]
     },
     "execution_count": 113,
     "metadata": {},
     "output_type": "execute_result"
    }
   ],
   "source": [
    "\n",
    "function DisjointRoots(j,PT::PTree)\n",
    "    L=[];\n",
    "\n",
    "    for k=j-1:-1:1\n",
    "        if PT.Parents[k]==-1;\n",
    "            L=[L; k];\n",
    "        end\n",
    "    end\n",
    "\n",
    "    return L\n",
    "end\n",
    "\n"
   ]
  },
  {
   "cell_type": "code",
   "execution_count": 118,
   "metadata": {
    "collapsed": false,
    "deletable": true,
    "editable": true
   },
   "outputs": [
    {
     "data": {
      "text/plain": [
       "2-element Array{Any,1}:\n",
       " 2\n",
       " 1"
      ]
     },
     "execution_count": 118,
     "metadata": {},
     "output_type": "execute_result"
    }
   ],
   "source": [
    "DisjointRoots(3,jw)"
   ]
  },
  {
   "cell_type": "code",
   "execution_count": 116,
   "metadata": {
    "collapsed": false,
    "deletable": true,
    "editable": true
   },
   "outputs": [
    {
     "data": {
      "text/plain": [
       "0-element Array{Any,1}"
      ]
     },
     "execution_count": 116,
     "metadata": {},
     "output_type": "execute_result"
    }
   ],
   "source": [
    "DisjointRoots(2,pt)"
   ]
  },
  {
   "cell_type": "code",
   "execution_count": 154,
   "metadata": {
    "collapsed": false,
    "deletable": true,
    "editable": true
   },
   "outputs": [
    {
     "data": {
      "text/plain": [
       "ShiftTreeIndices (generic function with 1 method)"
      ]
     },
     "execution_count": 154,
     "metadata": {},
     "output_type": "execute_result"
    }
   ],
   "source": [
    "function ShiftTreeIndices(shift,parent_tree)\n",
    "  shifted_tree=parent_tree.+shift;\n",
    "\n",
    "  #if it used to be empty it needs to reset\n",
    "  shifted_tree[shifted_tree .== shift-1].=-1;\n",
    "  return shifted_tree\n",
    "end\n",
    "\n"
   ]
  },
  {
   "cell_type": "code",
   "execution_count": 158,
   "metadata": {
    "collapsed": false,
    "deletable": true,
    "editable": true
   },
   "outputs": [
    {
     "data": {
      "text/plain": [
       "3×1 Array{Int64,2}:\n",
       "  6\n",
       "  7\n",
       " -1"
      ]
     },
     "execution_count": 158,
     "metadata": {},
     "output_type": "execute_result"
    }
   ],
   "source": [
    "ShiftTreeIndices(4,pt.Parents)"
   ]
  },
  {
   "cell_type": "code",
   "execution_count": 156,
   "metadata": {
    "collapsed": false,
    "deletable": true,
    "editable": true
   },
   "outputs": [
    {
     "data": {
      "text/plain": [
       "-1"
      ]
     },
     "execution_count": 156,
     "metadata": {},
     "output_type": "execute_result"
    }
   ],
   "source": [
    "st=pt.Parents.+1\n",
    "idx=st.==0\n",
    "st[3]=-1\n",
    "#st[idx]=-1"
   ]
  },
  {
   "cell_type": "code",
   "execution_count": 157,
   "metadata": {
    "collapsed": false,
    "deletable": true,
    "editable": true
   },
   "outputs": [
    {
     "data": {
      "text/plain": [
       "1-element view(::Array{Int64,1}, [3]) with eltype Int64:\n",
       " 0"
      ]
     },
     "execution_count": 157,
     "metadata": {},
     "output_type": "execute_result"
    }
   ],
   "source": [
    "st[st.==-1].=0"
   ]
  },
  {
   "cell_type": "code",
   "execution_count": 153,
   "metadata": {
    "collapsed": false,
    "deletable": true,
    "editable": true
   },
   "outputs": [
    {
     "data": {
      "text/plain": [
       "3×1 Array{Int64,2}:\n",
       " 3\n",
       " 4\n",
       " 0"
      ]
     },
     "execution_count": 153,
     "metadata": {},
     "output_type": "execute_result"
    }
   ],
   "source": [
    "st"
   ]
  },
  {
   "cell_type": "code",
   "execution_count": 159,
   "metadata": {
    "collapsed": false,
    "deletable": true,
    "editable": true
   },
   "outputs": [
    {
     "data": {
      "text/plain": [
       "PTree(3, [2; 3; -1])"
      ]
     },
     "execution_count": 159,
     "metadata": {},
     "output_type": "execute_result"
    }
   ],
   "source": [
    "pt"
   ]
  },
  {
   "cell_type": "code",
   "execution_count": 160,
   "metadata": {
    "collapsed": false,
    "deletable": true,
    "editable": true
   },
   "outputs": [
    {
     "data": {
      "text/plain": [
       "CombineTrees (generic function with 1 method)"
      ]
     },
     "execution_count": 160,
     "metadata": {},
     "output_type": "execute_result"
    }
   ],
   "source": [
    "function CombineTrees(treeL,treeR)\n",
    "  m=length(treeL)\n",
    "  shifted_treeR=ShiftTreeIndices(m,treeR)\n",
    "  return [treeL;shifted_treeR]\n",
    "end\n",
    "\n"
   ]
  },
  {
   "cell_type": "code",
   "execution_count": 163,
   "metadata": {
    "collapsed": false,
    "deletable": true,
    "editable": true
   },
   "outputs": [
    {
     "data": {
      "text/plain": [
       "6×1 Array{Int64,2}:\n",
       "  2\n",
       "  3\n",
       " -1\n",
       "  5\n",
       "  6\n",
       " -1"
      ]
     },
     "execution_count": 163,
     "metadata": {},
     "output_type": "execute_result"
    }
   ],
   "source": [
    "ct=CombineTrees(pt.Parents,pt.Parents)"
   ]
  },
  {
   "cell_type": "code",
   "execution_count": 183,
   "metadata": {
    "collapsed": false,
    "deletable": true,
    "editable": true
   },
   "outputs": [
    {
     "data": {
      "text/plain": [
       "false"
      ]
     },
     "execution_count": 183,
     "metadata": {},
     "output_type": "execute_result"
    }
   ],
   "source": [
    "ct==[2;3;-1;5;6;-1]"
   ]
  },
  {
   "cell_type": "code",
   "execution_count": 194,
   "metadata": {
    "collapsed": false,
    "deletable": true,
    "editable": true
   },
   "outputs": [
    {
     "data": {
      "text/plain": [
       "6×1 Array{Int64,2}:\n",
       "  2\n",
       "  3\n",
       " -1\n",
       "  5\n",
       "  6\n",
       " -1"
      ]
     },
     "execution_count": 194,
     "metadata": {},
     "output_type": "execute_result"
    }
   ],
   "source": [
    "Array(ct)"
   ]
  },
  {
   "cell_type": "code",
   "execution_count": 200,
   "metadata": {
    "collapsed": false,
    "deletable": true,
    "editable": true
   },
   "outputs": [
    {
     "data": {
      "text/plain": [
       "true"
      ]
     },
     "execution_count": 200,
     "metadata": {},
     "output_type": "execute_result"
    }
   ],
   "source": [
    "Array([2;3;-1;5;6;-1])≈ Array(ct)"
   ]
  },
  {
   "cell_type": "code",
   "execution_count": 196,
   "metadata": {
    "collapsed": false,
    "deletable": true,
    "editable": true
   },
   "outputs": [
    {
     "data": {
      "text/plain": [
       "3"
      ]
     },
     "execution_count": 196,
     "metadata": {},
     "output_type": "execute_result"
    }
   ],
   "source": [
    "ct[2]"
   ]
  },
  {
   "cell_type": "code",
   "execution_count": 197,
   "metadata": {
    "collapsed": false,
    "deletable": true,
    "editable": true
   },
   "outputs": [
    {
     "data": {
      "text/plain": [
       "6×1 Array{Int64,2}:\n",
       "  2\n",
       "  3\n",
       " -1\n",
       "  5\n",
       "  6\n",
       " -1"
      ]
     },
     "execution_count": 197,
     "metadata": {},
     "output_type": "execute_result"
    }
   ],
   "source": [
    "ct"
   ]
  },
  {
   "cell_type": "code",
   "execution_count": 169,
   "metadata": {
    "collapsed": false,
    "deletable": true,
    "editable": true
   },
   "outputs": [
    {
     "data": {
      "text/plain": [
       "-1"
      ]
     },
     "execution_count": 169,
     "metadata": {},
     "output_type": "execute_result"
    }
   ],
   "source": [
    "ct[3]"
   ]
  },
  {
   "cell_type": "code",
   "execution_count": 170,
   "metadata": {
    "collapsed": false,
    "deletable": true,
    "editable": true
   },
   "outputs": [
    {
     "data": {
      "text/plain": [
       "5"
      ]
     },
     "execution_count": 170,
     "metadata": {},
     "output_type": "execute_result"
    }
   ],
   "source": [
    "ct[4]"
   ]
  },
  {
   "cell_type": "code",
   "execution_count": 204,
   "metadata": {
    "collapsed": false,
    "deletable": true,
    "editable": true
   },
   "outputs": [
    {
     "data": {
      "text/plain": [
       "BetaMatrix (generic function with 2 methods)"
      ]
     },
     "execution_count": 204,
     "metadata": {},
     "output_type": "execute_result"
    }
   ],
   "source": [
    "function BetaMatrix(PT::PTree)\n",
    "\n",
    "  #make MxM zeros matrix\n",
    "  B=zeros(Int64,PT.M,PT.M)\n",
    "\n",
    "  #for each node in tree\n",
    "  for j=1:PT.M\n",
    "\n",
    "    #get progeny list\n",
    "    pj=Progeny(j,PT)\n",
    "\n",
    "    #mark appropriate matrix elements\n",
    "\n",
    "    #use the state ordering from eq (24) of Seeley12\n",
    "\n",
    "    #equation 24 of peter's paper has a strange ordering\n",
    "    #based on b_i=\\sum B_{ij} f_j instead of the usual change of basis formula\n",
    "    # b_i=\\sum B_{ji} f_j\n",
    "\n",
    "    B[j,j]=1;\n",
    "    for k=1:length(pj)\n",
    "      B[PT.M+1-j,PT.M+1-pj[k]]=1;\n",
    "    end\n",
    "\n",
    "  end\n",
    "\n",
    "  #return matrix\n",
    "  return B;\n",
    "end"
   ]
  },
  {
   "cell_type": "code",
   "execution_count": 206,
   "metadata": {
    "collapsed": false,
    "deletable": true,
    "editable": true
   },
   "outputs": [
    {
     "data": {
      "text/plain": [
       "3×3 Array{Int64,2}:\n",
       " 1  0  0\n",
       " 0  1  0\n",
       " 0  0  1"
      ]
     },
     "execution_count": 206,
     "metadata": {},
     "output_type": "execute_result"
    }
   ],
   "source": [
    "BetaMatrix(jw)"
   ]
  },
  {
   "cell_type": "code",
   "execution_count": 207,
   "metadata": {
    "collapsed": false,
    "deletable": true,
    "editable": true
   },
   "outputs": [
    {
     "data": {
      "text/plain": [
       "ParityTree (generic function with 1 method)"
      ]
     },
     "execution_count": 207,
     "metadata": {},
     "output_type": "execute_result"
    }
   ],
   "source": [
    "\n",
    "#%######################################\n",
    "#% Fenwick tree and related structures #\n",
    "#%######################################\n",
    "#%--\n",
    "#% tree = MakeFenwickTree(M)\n",
    "#% PT = JWTree(M)\n",
    "#% PT = BKTree(M)\n",
    "#% PT = SBKTree(M,stride_length)\n",
    "#% PT = ParityTree(M)\n",
    "\n",
    "function MakeFenwickTree(N)\n",
    "\n",
    "    if(N==0)\n",
    "      return [];\n",
    "    end\n",
    "    #global variables with respect to FENWICK\n",
    "    tree=-ones(N,1)\n",
    "    ctr=0;\n",
    "\n",
    "    function FENWICK(L,R)\n",
    "        #The recursive algorithm Vojta suggested in our paper\n",
    "\n",
    "\n",
    "        if(ctr>100)\n",
    "            #prevent excessive nesting\n",
    "            print(\"\\n\\tWarning: Excessive nesting, pruning\\n\")\n",
    "            return;\n",
    "        end\n",
    "\n",
    "        #algorithm is to connect from middle between L & R to right then recuse\n",
    "        #on each half. Be careful about floor versus ceiling.\n",
    "\n",
    "        if(L==R)            #if L=R then there is no middle, so we're done\n",
    "            return;\n",
    "        end\n",
    "        n=Int64(floor((L+R)/2))\n",
    "\n",
    "        #Connect middle to R\n",
    "        #+1 because we count from 1 in this language (Julia)\n",
    "        tree[n+1]=R+1;\n",
    "\n",
    "        #branch\n",
    "        ctr=ctr+1;\n",
    "        FENWICK(L+0.0, n)\n",
    "        FENWICK(1.0+n, R)\n",
    "\n",
    "    end\n",
    "\n",
    "    #run the recursive algorithm on (0,N-1) and it generates the BK tree over N\n",
    "    #nodes.\n",
    "    FENWICK(0.0,N-1.0)\n",
    "    return tree\n",
    "end\n",
    "\n",
    "function JWTree(M)\n",
    "    Parents=-ones(M,1)\n",
    "    return PTree(M,Parents)\n",
    "end\n",
    "\n",
    "function BKTree(M)\n",
    "  return PTree(M,MakeFenwickTree(M))\n",
    "end\n",
    "\n",
    "function SBKTree(M,L)\n",
    "  #L=stride_length;\n",
    "\n",
    "  #how many strides?\n",
    "  n=M/L;\n",
    "  n=n-n%1;\n",
    "  #remainder\n",
    "  r=M-n*L;\n",
    "\n",
    "  sktree=[];\n",
    "  #Now we just need to make n strides\n",
    "  for i=1:n\n",
    "    sktree=CombineTrees(MakeFenwickTree(L),sktree);\n",
    "  end\n",
    "  #plus the remaining nodes\n",
    "\n",
    "  sktree=CombineTrees(MakeFenwickTree(r),sktree);\n",
    "\n",
    "  return PTree(M,sktree);\n",
    "end\n",
    "\n",
    "function ParityTree(M)\n",
    "\n",
    "  paritytree=-ones(M,1);\n",
    "\n",
    "  for i=1:(M-1)\n",
    "    paritytree[i]=i+1;\n",
    "  end\n",
    "\n",
    "  return PTree(M,paritytree);\n",
    "end\n",
    "\n"
   ]
  },
  {
   "cell_type": "code",
   "execution_count": 209,
   "metadata": {
    "collapsed": false,
    "deletable": true,
    "editable": true
   },
   "outputs": [
    {
     "data": {
      "text/plain": [
       "PTree(4, [2; 4; 4; -1])"
      ]
     },
     "execution_count": 209,
     "metadata": {},
     "output_type": "execute_result"
    }
   ],
   "source": [
    "bk=BKTree(4)"
   ]
  },
  {
   "cell_type": "code",
   "execution_count": 216,
   "metadata": {
    "collapsed": false,
    "deletable": true,
    "editable": true
   },
   "outputs": [
    {
     "data": {
      "text/plain": [
       "GetSpinAlgebra (generic function with 1 method)"
      ]
     },
     "execution_count": 216,
     "metadata": {},
     "output_type": "execute_result"
    }
   ],
   "source": [
    "#%###################################\n",
    "#%           Spin algebra           #\n",
    "#%###################################\n",
    "#%We'll deal with systems of spin-half particles. These are governed by the\n",
    "#%Pauli spin matrices.  Additionally, the raising and lowering spin operators are\n",
    "#%useful.  We'll assign them all numbers and define algebra as a multiplication\n",
    "#%table\n",
    "#%\n",
    "#% Pauli basis: I, X, Y, Z\n",
    "#% Index basis: P_00, P_01, P_10, P_11\n",
    "#%   with\n",
    "#%  P_00 = (I+Z)/2\n",
    "#%  P_11 = (I-Z)/2\n",
    "#%  P_01 = S_+ = (X+iY )/2\n",
    "#%  P_10 = S_- = (X-iY )/2\n",
    "#%\n",
    "#% Basic algebraic relations\n",
    "#%   XY= iZ    YX= -iZ\n",
    "#%   ZX= iY    XZ= -iY\n",
    "#%   YZ= iX    ZY= -iX\n",
    "#%  matrix    =  GetSpinAlgebra()\n",
    "#%  MatrixID  =  MultiplyPauli(MatrixID, MatrixID)\n",
    "\n",
    "########### Z BASIS ################\n",
    "#Pauli Matrix basis\n",
    "ii=[1. 1.0; 0.0  1.0];\n",
    "x= [0  1.0; 1.0  0.0];\n",
    "y= [0 -1im; 1im  0.0];\n",
    "z= [1. 0.0; 0.0 -1.0];\n",
    "#Index basis\n",
    "p00=[1. 0.; 0. 0.];\n",
    "p01=[0. 1.; 0. 0.];\n",
    "p10=[0. 0.; 1. 0.];\n",
    "p11=[0. 0.; 0. 1.];\n",
    "\n",
    "# We use integer MatrixIDs for coding the algebra\n",
    "I   =1;\n",
    "X   =2;\n",
    "Y   =3;\n",
    "Z   =4;\n",
    "P00 =5;\n",
    "P01 =6;\n",
    "P10 =7;\n",
    "P11 =8;\n",
    "\n",
    "function GetSpinAlgebra()\n",
    "\n",
    "   SPIN_ALGEBRA=zeros(Complex,8,8)\n",
    "   #These are the MatrixIDs for coding algebra\n",
    "   I   =1;\n",
    "   X   =2;\n",
    "   Y   =3;\n",
    "   Z   =4;\n",
    "   P00 =5;\n",
    "   P01 =6;\n",
    "   P10 =7;\n",
    "   P11 =8;\n",
    "\n",
    "   #ROW I.j\n",
    "   #   [ 11  1X  1Y  1Z  1 P_00   1 P_01   1 P_10   1 P_11\n",
    "   # = [ +1   X   Y   Z  +P_00    +P_01    +P_10    +P_11\n",
    "   SPIN_ALGEBRA[I,I]=I;\n",
    "   SPIN_ALGEBRA[I,X]=X;\n",
    "   SPIN_ALGEBRA[I,Y]=Y;\n",
    "   SPIN_ALGEBRA[I,Z]=Z;\n",
    "   SPIN_ALGEBRA[I,P00]=P00;\n",
    "   SPIN_ALGEBRA[I,P01]=P01;\n",
    "   SPIN_ALGEBRA[I,P10]=P10;\n",
    "   SPIN_ALGEBRA[I,P11]=P11;\n",
    "\n",
    "   #ROW X.j\n",
    "   #   [ X1  XX  XY  XZ  X P_00   X P_01   X P_10   X P_11]\n",
    "   # = [ +X  +1 +iZ -iY  +P_10    +P_11    +P_00    +P_01 ]\n",
    "   SPIN_ALGEBRA[X,I]\t=    X;\n",
    "   SPIN_ALGEBRA[X,X]\t=    I;\n",
    "   SPIN_ALGEBRA[X,Y]\t=  1im*Z;\n",
    "   SPIN_ALGEBRA[X,Z]\t= -1im*Y;\n",
    "   SPIN_ALGEBRA[X,P00]     =   P10;\n",
    "   SPIN_ALGEBRA[X,P01]     =   P11;\n",
    "   SPIN_ALGEBRA[X,P10]     =   P00;\n",
    "   SPIN_ALGEBRA[X,P11]     =   P01;\n",
    "\n",
    "   #ROW Y.j\n",
    "   #   [  Y1  YX  YY  YZ   Y P_00   Y P_01   Y P_10   Y P_11 ]\n",
    "   # = [  +Y -iZ  +1 +iX   +iP_10   +iP_11   -iP_00   -iP_01 ]\n",
    "   SPIN_ALGEBRA[Y,I]\t=    Y;\n",
    "   SPIN_ALGEBRA[Y,X]\t= -1im*Z;\n",
    "   SPIN_ALGEBRA[Y,Y]\t=    I;\n",
    "   SPIN_ALGEBRA[Y,Z]\t= +1im*X;\n",
    "   SPIN_ALGEBRA[Y,P00]     = +1im*P10;\n",
    "   SPIN_ALGEBRA[Y,P01]     = +1im*P11;\n",
    "   SPIN_ALGEBRA[Y,P10]     = -1im*P00;\n",
    "   SPIN_ALGEBRA[Y,P11]     = -1im*P01;\n",
    "\n",
    "   #ROW Z.j\n",
    "   #     Z1  ZX  ZY  ZZ   Z  P_00    Z  P_01    Z  P_10     Z  P_11 ]\n",
    "   # = [ +Z +iY -iX  +1    +P_00      +P_01      -P_10       -P_11  ]\n",
    "   SPIN_ALGEBRA[Z,I]\t=    Z;\n",
    "   SPIN_ALGEBRA[Z,X]       = +1im*Y;\n",
    "   SPIN_ALGEBRA[Z,Y]\t= -1im*X;\n",
    "   SPIN_ALGEBRA[Z,Z]\t=    I;\n",
    "   SPIN_ALGEBRA[Z,P00] \t=   P00;\n",
    "   SPIN_ALGEBRA[Z,P01]\t=   P01;\n",
    "   SPIN_ALGEBRA[Z,P10]\t=  -P10;\n",
    "   SPIN_ALGEBRA[Z,P11]\t=  -P11;\n",
    "\n",
    "   #ROW P00.j\n",
    "   #   [ P_00 1   P_00 X   P_00 Y   P_00 Z    P_00 P_00   P_00 P_01   P_00 P_10   P_00 P_11\n",
    "   # = [  +P_00    +P_01   -iP_01    +P_00      P_00         P_01         0          0\n",
    "   SPIN_ALGEBRA[P00,I]\t=    P00;\n",
    "   SPIN_ALGEBRA[P00,X]\t=    P01;\n",
    "   SPIN_ALGEBRA[P00,Y]\t= -1im*P01;\n",
    "   SPIN_ALGEBRA[P00,Z]\t=    P00;\n",
    "   SPIN_ALGEBRA[P00,P00]   =    P00;\n",
    "   SPIN_ALGEBRA[P00,P01]   =    P01;\n",
    "   SPIN_ALGEBRA[P00,P10]   =     0;\n",
    "   SPIN_ALGEBRA[P00,P11]   =     0;\n",
    "\n",
    "   #ROW P01.j\n",
    "   #   [  P_01 1   P_01 X   P_01 Y   P_01 Z   P_01 P_00   P_01 P_01   P_01 P_10   P_01 P_11\n",
    "   # = [   +P_01    +P_00   +iP_00    -P_01       0            0         P_00       P_01\n",
    "   SPIN_ALGEBRA[P01,I]\t=    P01;\n",
    "   SPIN_ALGEBRA[P01,X]\t=    P00;\n",
    "   SPIN_ALGEBRA[P01,Y]\t= +1im*P00;\n",
    "   SPIN_ALGEBRA[P01,Z]\t=   -P01;\n",
    "   SPIN_ALGEBRA[P01,P00]   =     0;\n",
    "   SPIN_ALGEBRA[P01,P01]   =     0;\n",
    "   SPIN_ALGEBRA[P01,P10]   =    P00;\n",
    "   SPIN_ALGEBRA[P01,P11]   =    P01;\n",
    "\n",
    "   #ROW P10.j\n",
    "   #   [  P_10 1   P_10 X   P_10 Y   P_10 Z   P_10 P_00   P_10 P_01   P_10 P_10   P_10 P_11\n",
    "   # = [   +P_10    +P_11   -iP_11    +P_10       P_10         P_11         0          0\n",
    "   SPIN_ALGEBRA[P10,I]\t=    P10;\n",
    "   SPIN_ALGEBRA[P10,X]\t=    P11;\n",
    "   SPIN_ALGEBRA[P10,Y]\t= -1im*P10;\n",
    "   SPIN_ALGEBRA[P10,Z]\t=   +P01;\n",
    "   SPIN_ALGEBRA[P10,P00]   =    P10;\n",
    "   SPIN_ALGEBRA[P10,P01]   =    P11;\n",
    "   SPIN_ALGEBRA[P10,P10]   =     0;\n",
    "   SPIN_ALGEBRA[P10,P11]   =     0;\n",
    "\n",
    "   #ROW P11.j\n",
    "   #   [  P_11 1   P_11 X   P_11 Y   P_11 Z   P_11 P_00   P_11 P_01   P_11 P_10   P_11 P_11\n",
    "   # = [   +P_11    +P_10   +iP_10    -P_11       0            0         P_10       P_11\n",
    "   SPIN_ALGEBRA[P11,I]\t=    P11;\n",
    "   SPIN_ALGEBRA[P11,X]\t=    P10;\n",
    "   SPIN_ALGEBRA[P11,Y]\t= +1im*P10;\n",
    "   SPIN_ALGEBRA[P11,Z]\t=   -P11;\n",
    "   SPIN_ALGEBRA[P11,P00]   =     0;\n",
    "   SPIN_ALGEBRA[P11,P01]   =     0;\n",
    "   SPIN_ALGEBRA[P11,P10]   =    P10;\n",
    "   SPIN_ALGEBRA[P11,P11]   =    P11;\n",
    "\n",
    "   return SPIN_ALGEBRA;\n",
    "end\n",
    "\n"
   ]
  },
  {
   "cell_type": "code",
   "execution_count": 226,
   "metadata": {
    "collapsed": false,
    "deletable": true,
    "editable": true
   },
   "outputs": [
    {
     "data": {
      "text/plain": [
       "MultiplyPauli (generic function with 1 method)"
      ]
     },
     "execution_count": 226,
     "metadata": {},
     "output_type": "execute_result"
    }
   ],
   "source": [
    "function MultiplyPauli(A,B)\n",
    "  algebra=GetSpinAlgebra();\n",
    "  return algebra[A,B];\n",
    "end"
   ]
  },
  {
   "cell_type": "code",
   "execution_count": 227,
   "metadata": {
    "collapsed": false,
    "deletable": true,
    "editable": true
   },
   "outputs": [
    {
     "data": {
      "text/plain": [
       "0 + 3im"
      ]
     },
     "execution_count": 227,
     "metadata": {},
     "output_type": "execute_result"
    }
   ],
   "source": [
    "MultiplyPauli(Z,X)"
   ]
  },
  {
   "cell_type": "code",
   "execution_count": 228,
   "metadata": {
    "collapsed": false,
    "deletable": true,
    "editable": true
   },
   "outputs": [
    {
     "data": {
      "text/plain": [
       "Print (generic function with 1 method)"
      ]
     },
     "execution_count": 228,
     "metadata": {},
     "output_type": "execute_result"
    }
   ],
   "source": [
    "\n",
    "#%###################################\n",
    "#%          Tensor algebra          #\n",
    "#%###################################\n",
    "#% Spin chain multiplication\n",
    "#%\n",
    "#% We need both multiplication and addition of Pauli sums.   We will store the\n",
    "#% spin chain operators as a list with a complex prefactor. Plain ASCII output\n",
    "#% is required for the final output of the result.  The present\n",
    "#% example is for small matrix size so we will explicitly store each tensor\n",
    "#% contribution.\n",
    "#%\n",
    "#% PS    = PauliSum(PL1,PL2,...,PLn)\n",
    "#% PList = PauliList(Prefactor,OperatorList)\n",
    "#%\n",
    "#% Pauli list functions\n",
    "#%  PList        =  StandardForm(PList)\n",
    "#%  PList        =  Minus(Plist)\n",
    "#%  PList        =  MakeLocalOperator(MatrixID, tensor_index, num_spins)\n",
    "#%  PList        =  MultiplyPauliList(PauliL::PauliList,PauliR::PauliList)\n",
    "#%  PLists       =  MultiplyPauliLists(PauliSumL,PauliSumR)\n",
    "#%       PrintPauliList(PauliList)\n",
    "#%       PrintPauliLists(PauliLists)\n",
    "#%  PList        =  Sum(PList)\n",
    "\n",
    "#Pauli list\n",
    "temp = @isdefined PauliList\n",
    "if( temp == false ) \n",
    "  struct PauliList\n",
    "    Prefactor::Complex\n",
    "    List::Array{Complex}\n",
    "  end\n",
    "end\n",
    "\n",
    "function StandardForm(P::PauliList)\n",
    "\n",
    "  #a little error catching to make sure MatrixIDs are okay\n",
    "  if( 0!=sum(abs(P.List).>8.0) || 0!=sum(abs(P.List).<1.0))\n",
    "    println(\"Warning invalid MatrixIDs in StandardForm function\")\n",
    "  end\n",
    "\n",
    "  #pull StandardForm\n",
    "  b=(P.List)./abs(P.List);\n",
    "\n",
    "  #if entry of list is zero extracting the phase via A/|A| is invalid. Hence,\n",
    "  ## !isnan ## command. All MatrixIDs should be 1,...,8 so this isn't necessary.\n",
    "  b=prod( b[!isnan(b)] );\n",
    "\n",
    "  P.Prefactor=P.Prefactor*b;\n",
    "\n",
    "  #put everything as standard matrix IDs\n",
    "  P.List=Complex.(round(abs(P.List)));\n",
    "\n",
    "  return P;\n",
    "end\n",
    "\n",
    "\n",
    "function MakeLocalOperator(MatrixID, j, M)\n",
    "  list=ones(M);\n",
    "  list[j]=MatrixID;\n",
    "  return PauliList(1,list)\n",
    "end\n",
    "\n",
    "function MultiplyPauliList(L::PauliList,R::PauliList)\n",
    "  algebra=GetSpinAlgebra();\n",
    "\n",
    "  out=zeros(Complex,max(length(L.List),length(R.List)));\n",
    "  if(length(L.List)!=length(R.List))\n",
    "    println(\"Warning: tensor products must be same length. Returning 0\")\n",
    "    return 0;\n",
    "  end\n",
    "\n",
    "\n",
    "  F=L.Prefactor*R.Prefactor;\n",
    "  for k=1:length(L.List)\n",
    "    out[k]=algebra[Int64(abs(L.List[k])),Int64(abs(R.List[k]))]\n",
    "  end\n",
    "\n",
    "  return StandardForm(PauliList(F,out));\n",
    "end\n",
    "\n",
    "function MultiplyPauliLists(aL,aR)\n",
    "  #Here aL and aR are the arrays of PauliLists\n",
    "  out=Array{PauliList}([]);\n",
    "  for i=1:length(aL)\n",
    "    for j=1:length(aR)\n",
    "      if length(out)==0\n",
    "        out=[MultiplyPauliList( aL[i], aR[j] )]\n",
    "      else\n",
    "        out=[out;MultiplyPauliList(aL[i],aR[j])]\n",
    "      end\n",
    "    end\n",
    "  end\n",
    "  return out;\n",
    "end\n",
    "\n",
    "function PrintPauliList(P::PauliList)\n",
    "  #correct the state\n",
    "  P=StandardForm(P)\n",
    "\n",
    "  #These are the MatrixIDs for coding the algebra\n",
    "  I   =1;\n",
    "  X   =2;\n",
    "  Y   =3;\n",
    "  Z   =4;\n",
    "  P00 =5;\n",
    "  P01 =6;\n",
    "  P10 =7;\n",
    "  P11 =8;\n",
    "\n",
    "  #printing\n",
    "  print(\"(\")\n",
    "  if(real(P.Prefactor)>=0) #add plus sign to make it look better\n",
    "    print(\"+\")\n",
    "  end\n",
    "  print(P.Prefactor)\n",
    "  print(\") \")\n",
    "  for i=1:length(P.List)\n",
    "    if(P.List[i]==I)\n",
    "      print(\"  I  \")\n",
    "    end\n",
    "    if(P.List[i]==X)\n",
    "      print(\"  X  \")\n",
    "    end\n",
    "    if(P.List[i]==Y)\n",
    "      print(\"  Y  \")\n",
    "    end\n",
    "    if(P.List[i]==Z)\n",
    "      print(\"  Z  \")\n",
    "    end\n",
    "    if(P.List[i]==P00)\n",
    "      print(\" P00 \")\n",
    "    end\n",
    "    if(P.List[i]==P01)\n",
    "      print(\" P01 \")\n",
    "    end\n",
    "    if(P.List[i]==P10)\n",
    "      print(\" P10 \")\n",
    "    end\n",
    "    if(P.List[i]==P11)\n",
    "      print(\" P11 \")\n",
    "    end\n",
    "  end\n",
    "  println(\"\")\n",
    "  return\n",
    "end\n",
    "\n",
    "function PrintPauliLists(arrayPL)\n",
    "\n",
    "  if(string(typeof(arrayPL))==\"PauliList\")\n",
    "    arrayPL=[arrayPL];\n",
    "  end\n",
    "\n",
    "  if(string(typeof(arrayPL[1]))!=\"PauliList\")\n",
    "    println(\"Warning: bad input; expected array of PauliLists in function Print_sum\")\n",
    "  end\n",
    "\n",
    "  for k=1:length(arrayPL)\n",
    "    if(k>1)\n",
    "      print(\"    +\")\n",
    "    else\n",
    "      print(\"op = \")\n",
    "    end\n",
    "    Print(arrayPL[k])\n",
    "  end\n",
    "end\n",
    "\n",
    "\n",
    "#adds like list terms for simplification (S. Manski 2016)\n",
    "#input: unsimplified PauliList\n",
    "#output: PauliList with combined like terms\n",
    "function Sum(arrayPL)\n",
    "\n",
    "  arrayA=PauliList[];\n",
    "  for i=1:length(arrayPL)\n",
    "    for j=i+1:length(arrayPL)\n",
    "      if( arrayPL[i].List == arrayPL[j].List && arrayPL[i].Prefactor!=0)\n",
    "          arrayPL[i].Prefactor=arrayPL[i].Prefactor+arrayPL[j].Prefactor;\n",
    "          arrayPL[j].Prefactor=0;\n",
    "      end\n",
    "    end\n",
    "    if(arrayPL[i].Prefactor!=0)\n",
    "      push!(arrayA,arrayPL[i]);\n",
    "    end\n",
    "  end\n",
    "  return arrayA\n",
    "end\n",
    "\n",
    "\n",
    "\n",
    "\n",
    "# Wrapper functions\n",
    "#  ans    =  Multiply(A,B)\n",
    "#  output =  Print(A)\n",
    "\n",
    "\n",
    "function Multiply(A,B)\n",
    "\n",
    "  if typeof(A)<: Number\n",
    "    #put the scalar second\n",
    "    temp=A;\n",
    "    A=B;\n",
    "    B=temp;\n",
    "  end\n",
    "\n",
    "\n",
    "  if  typeof(A) <: Vector{PauliList} && typeof(B) <: Number\n",
    "    for a in A\n",
    "      a.Prefactor=a.Prefactor * B;\n",
    "    end\n",
    "    return A;\n",
    "  end\n",
    "\n",
    "  if typeof(A) <: PauliList && typeof(B) <: Number\n",
    "    A.Prefactor=A.Prefactor*B;\n",
    "    return A;\n",
    "  end\n",
    "\n",
    "\n",
    "  if(string(typeof(A))== \"PauliList\" && string(typeof(B))== \"PauliList\")\n",
    "\t\treturn MultiplyPauliList(A,B)\n",
    "\tend\n",
    "\n",
    "\tif(   (     string(typeof(A))== \"Array{PauliList,1}\"  ||      string(typeof(A))== \"Vector{PauliList}\" )\n",
    "           && (     string(typeof(B))== \"Array{PauliList,1}\"  ||      string(typeof(B))== \"Vector{PauliList}\" ))\n",
    "\t\treturn MultiplyPauliLists(A,B)\n",
    "\tend\n",
    "\n",
    "\tprintln(\"Types: \",typeof(A),\" , \",typeof(B))\n",
    "\treturn A*B\n",
    "end\n",
    "\n",
    "#TODO OVERLOAD * TO USE Multiply\n",
    "#import Base.*\n",
    "#println(*(3,9))\n",
    "\n",
    "function Print(P)\n",
    "  if(string(typeof(P))==\"PauliList\")\n",
    "    PrintPauliList(P)\n",
    "    return;\n",
    "  end\n",
    "  if( string(typeof(P))==\"Array{PauliList,1}\")\n",
    "    PrintPauliLists(P)\n",
    "    return;\n",
    "  end\n",
    "  if( string(typeof(P))==\"Vector{PauliList}\" )\n",
    "    PrintPauliLists(P)\n",
    "    return;\n",
    "  end\n",
    "  println(typeof(P))\n",
    "  println(P)\n",
    "  return;\n",
    "end\n",
    "\n",
    "\n"
   ]
  },
  {
   "cell_type": "code",
   "execution_count": null,
   "metadata": {
    "collapsed": true,
    "deletable": true,
    "editable": true
   },
   "outputs": [],
   "source": []
  }
 ],
 "metadata": {
  "kernelspec": {
   "display_name": "Julia 0.6.4",
   "language": "julia",
   "name": "julia-0.6"
  },
  "language_info": {
   "file_extension": ".jl",
   "mimetype": "application/julia",
   "name": "julia",
   "version": "0.6.4"
  }
 },
 "nbformat": 4,
 "nbformat_minor": 2
}
